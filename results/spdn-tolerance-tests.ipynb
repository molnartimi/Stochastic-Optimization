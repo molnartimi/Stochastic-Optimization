{
 "cells": [
  {
   "cell_type": "markdown",
   "metadata": {},
   "source": [
    "# Read csv"
   ]
  },
  {
   "cell_type": "code",
   "execution_count": 2,
   "metadata": {},
   "outputs": [],
   "source": [
    "import pandas as pd\n",
    "import numpy as np\n",
    "import sys\n",
    "import os.path\n",
    "import matplotlib.pyplot as plt\n",
    "\n",
    "model = 'model'\n",
    "tolerance = 'tolerance'\n",
    "point_id = 'point_id'\n",
    "time = 'time'\n",
    "rewards = 'rewards'\n",
    "result = 'result'\n",
    "\n",
    "headers = [model, tolerance, point_id, time, rewards,result]\n",
    "types = {\n",
    "    model : str,\n",
    "    tolerance : np.float64,\n",
    "    point_id: np.int64,\n",
    "    time : np.int64,\n",
    "    rewards: str,\n",
    "    result: np.float64\n",
    "}\n",
    "\n",
    "df = pd.read_csv('all.csv', header = 0, names = headers, low_memory = False, dtype = types)"
   ]
  },
  {
   "cell_type": "code",
   "execution_count": 3,
   "metadata": {},
   "outputs": [],
   "source": [
    "p1 = 'p1'\n",
    "p2 = 'p2'\n",
    "p3 = 'p3'\n",
    "p4 = 'p4'\n",
    "p5 = 'p5'\n",
    "p6 = 'p6'\n",
    "p7 = 'p7'\n",
    "p8 = 'p8'\n",
    "p9 = 'p9'\n",
    "p10 = 'p10'\n",
    "p11 = 'p11'\n",
    "p12 = 'p12'\n",
    "p13 = 'p13'\n",
    "avg = 'avg'"
   ]
  },
  {
   "cell_type": "markdown",
   "metadata": {},
   "source": [
    "# Átlagos szórás az eredmények között\n",
    "Adatfeldolgozás:\n",
    "1. SPDN által visszaadott reward eredmények a _values_ oszlopban, ;-vel elválasztva\n",
    "2. Ezeket külön oszlopokra bontjuk, a _pointid_ alapján eggyesítjük, oszlopok (vagyis reward eredmények) szórását vesszük\n",
    "3. Külön _avg_ oszlopban átlagoljuk soronként a szórásokat\n",
    "4. Az így kapott összes sorra átlagoljuk a szórás átlagokat :D"
   ]
  },
  {
   "cell_type": "code",
   "execution_count": 7,
   "metadata": {},
   "outputs": [],
   "source": [
    "def getAvgVariances(newDf):\n",
    "    # These must be done before getAvgVariances:\n",
    "    #    smpl_df = df[df.model == 'SMPL']\n",
    "    #    smpl_df[p1], smpl_df[p2] = df[values].str.split(';', 1).str\n",
    "    for col in newDf.columns:\n",
    "        newDf[col] = pd.to_numeric(newDf[col], errors = 'coerce')\n",
    "    newDf = newDf.drop(columns=[model, tolerance, time, rewards])\\\n",
    "                    .groupby(point_id).var()\\\n",
    "                    .dropna(thresh=1)\n",
    "    newDf[avg] = newDf[newDf.columns[0]]\n",
    "    for col in newDf.columns[1:(len(newDf.columns)-1)]:\n",
    "        newDf[avg] = newDf[avg] + newDf[col]\n",
    "    newDf[avg] = newDf[avg] / (len(newDf.columns) - 1)\n",
    "    return np.average(newDf.loc[:,avg].values)\n",
    "    "
   ]
  },
  {
   "cell_type": "code",
   "execution_count": 11,
   "metadata": {},
   "outputs": [
    {
     "name": "stderr",
     "output_type": "stream",
     "text": [
      "C:\\Users\\Timi\\Anaconda3\\lib\\site-packages\\ipykernel_launcher.py:4: SettingWithCopyWarning: \n",
      "A value is trying to be set on a copy of a slice from a DataFrame.\n",
      "Try using .loc[row_indexer,col_indexer] = value instead\n",
      "\n",
      "See the caveats in the documentation: http://pandas.pydata.org/pandas-docs/stable/indexing.html#indexing-view-versus-copy\n",
      "  after removing the cwd from sys.path.\n",
      "C:\\Users\\Timi\\Anaconda3\\lib\\site-packages\\ipykernel_launcher.py:6: SettingWithCopyWarning: \n",
      "A value is trying to be set on a copy of a slice from a DataFrame.\n",
      "Try using .loc[row_indexer,col_indexer] = value instead\n",
      "\n",
      "See the caveats in the documentation: http://pandas.pydata.org/pandas-docs/stable/indexing.html#indexing-view-versus-copy\n",
      "  \n",
      "C:\\Users\\Timi\\Anaconda3\\lib\\site-packages\\ipykernel_launcher.py:8: SettingWithCopyWarning: \n",
      "A value is trying to be set on a copy of a slice from a DataFrame.\n",
      "Try using .loc[row_indexer,col_indexer] = value instead\n",
      "\n",
      "See the caveats in the documentation: http://pandas.pydata.org/pandas-docs/stable/indexing.html#indexing-view-versus-copy\n",
      "  \n",
      "C:\\Users\\Timi\\Anaconda3\\lib\\site-packages\\ipykernel_launcher.py:12: SettingWithCopyWarning: \n",
      "A value is trying to be set on a copy of a slice from a DataFrame.\n",
      "Try using .loc[row_indexer,col_indexer] = value instead\n",
      "\n",
      "See the caveats in the documentation: http://pandas.pydata.org/pandas-docs/stable/indexing.html#indexing-view-versus-copy\n",
      "  if sys.path[0] == '':\n",
      "C:\\Users\\Timi\\Anaconda3\\lib\\site-packages\\numpy\\lib\\function_base.py:1128: RuntimeWarning: Mean of empty slice.\n",
      "  avg = a.mean(axis)\n",
      "C:\\Users\\Timi\\Anaconda3\\lib\\site-packages\\numpy\\core\\_methods.py:80: RuntimeWarning: invalid value encountered in double_scalars\n",
      "  ret = ret.dtype.type(ret / rcount)\n",
      "C:\\Users\\Timi\\Anaconda3\\lib\\site-packages\\ipykernel_launcher.py:16: SettingWithCopyWarning: \n",
      "A value is trying to be set on a copy of a slice from a DataFrame.\n",
      "Try using .loc[row_indexer,col_indexer] = value instead\n",
      "\n",
      "See the caveats in the documentation: http://pandas.pydata.org/pandas-docs/stable/indexing.html#indexing-view-versus-copy\n",
      "  app.launch_new_instance()\n",
      "C:\\Users\\Timi\\Anaconda3\\lib\\site-packages\\ipykernel_launcher.py:20: SettingWithCopyWarning: \n",
      "A value is trying to be set on a copy of a slice from a DataFrame.\n",
      "Try using .loc[row_indexer,col_indexer] = value instead\n",
      "\n",
      "See the caveats in the documentation: http://pandas.pydata.org/pandas-docs/stable/indexing.html#indexing-view-versus-copy\n",
      "C:\\Users\\Timi\\Anaconda3\\lib\\site-packages\\ipykernel_launcher.py:24: SettingWithCopyWarning: \n",
      "A value is trying to be set on a copy of a slice from a DataFrame.\n",
      "Try using .loc[row_indexer,col_indexer] = value instead\n",
      "\n",
      "See the caveats in the documentation: http://pandas.pydata.org/pandas-docs/stable/indexing.html#indexing-view-versus-copy\n",
      "C:\\Users\\Timi\\Anaconda3\\lib\\site-packages\\ipykernel_launcher.py:28: SettingWithCopyWarning: \n",
      "A value is trying to be set on a copy of a slice from a DataFrame.\n",
      "Try using .loc[row_indexer,col_indexer] = value instead\n",
      "\n",
      "See the caveats in the documentation: http://pandas.pydata.org/pandas-docs/stable/indexing.html#indexing-view-versus-copy\n",
      "C:\\Users\\Timi\\Anaconda3\\lib\\site-packages\\ipykernel_launcher.py:32: SettingWithCopyWarning: \n",
      "A value is trying to be set on a copy of a slice from a DataFrame.\n",
      "Try using .loc[row_indexer,col_indexer] = value instead\n",
      "\n",
      "See the caveats in the documentation: http://pandas.pydata.org/pandas-docs/stable/indexing.html#indexing-view-versus-copy\n",
      "C:\\Users\\Timi\\Anaconda3\\lib\\site-packages\\ipykernel_launcher.py:36: SettingWithCopyWarning: \n",
      "A value is trying to be set on a copy of a slice from a DataFrame.\n",
      "Try using .loc[row_indexer,col_indexer] = value instead\n",
      "\n",
      "See the caveats in the documentation: http://pandas.pydata.org/pandas-docs/stable/indexing.html#indexing-view-versus-copy\n",
      "C:\\Users\\Timi\\Anaconda3\\lib\\site-packages\\ipykernel_launcher.py:40: SettingWithCopyWarning: \n",
      "A value is trying to be set on a copy of a slice from a DataFrame.\n",
      "Try using .loc[row_indexer,col_indexer] = value instead\n",
      "\n",
      "See the caveats in the documentation: http://pandas.pydata.org/pandas-docs/stable/indexing.html#indexing-view-versus-copy\n",
      "C:\\Users\\Timi\\Anaconda3\\lib\\site-packages\\ipykernel_launcher.py:44: SettingWithCopyWarning: \n",
      "A value is trying to be set on a copy of a slice from a DataFrame.\n",
      "Try using .loc[row_indexer,col_indexer] = value instead\n",
      "\n",
      "See the caveats in the documentation: http://pandas.pydata.org/pandas-docs/stable/indexing.html#indexing-view-versus-copy\n",
      "C:\\Users\\Timi\\Anaconda3\\lib\\site-packages\\ipykernel_launcher.py:48: SettingWithCopyWarning: \n",
      "A value is trying to be set on a copy of a slice from a DataFrame.\n",
      "Try using .loc[row_indexer,col_indexer] = value instead\n",
      "\n",
      "See the caveats in the documentation: http://pandas.pydata.org/pandas-docs/stable/indexing.html#indexing-view-versus-copy\n",
      "C:\\Users\\Timi\\Anaconda3\\lib\\site-packages\\ipykernel_launcher.py:52: SettingWithCopyWarning: \n",
      "A value is trying to be set on a copy of a slice from a DataFrame.\n",
      "Try using .loc[row_indexer,col_indexer] = value instead\n",
      "\n",
      "See the caveats in the documentation: http://pandas.pydata.org/pandas-docs/stable/indexing.html#indexing-view-versus-copy\n"
     ]
    },
    {
     "data": {
      "text/plain": [
       "{'SMPL': 0.0,\n",
       " 'VCLS': 1735709412072526.8,\n",
       " 'HYBC': nan,\n",
       " 'FIL3': 0.0002777904588309557,\n",
       " 'FIL4': 0.01329569366735577,\n",
       " 'FIL5': 0.03006552245924825,\n",
       " 'FIL6': 0.00560402640767798,\n",
       " 'FIL7': 0.13387397185909053,\n",
       " 'FIL8': 0.5396193088086996,\n",
       " 'FIL9': 0.16083220896003414,\n",
       " 'FIL10': 1.143915015181659,\n",
       " 'FIL11': 0.6027308214206674,\n",
       " 'FIL12': nan}"
      ]
     },
     "execution_count": 11,
     "metadata": {},
     "output_type": "execute_result"
    }
   ],
   "source": [
    "avgs = {}\n",
    "\n",
    "smpl_df = df[df.model == 'SMPL']\n",
    "smpl_df[p1], smpl_df[p2] = df[rewards].str.split(';', 1).str\n",
    "avgs['SMPL'] = getAvgVariances(smpl_df)\n",
    "\n",
    "vcls_df = df[df.model == 'VCLS']\n",
    "vcls_df[p1], vcls_df[p2], vcls_df[p3], vcls_df[p4],vcls_df[p5], vcls_df[p6],vcls_df[p7]  = df[rewards].str.split(';', 6).str\n",
    "avgs['VCLS'] = getAvgVariances(vcls_df)\n",
    "\n",
    "hybc_df = df[df.model == 'HYBC']\n",
    "hybc_df[p1], hybc_df[p2], hybc_df[p3], hybc_df[p4]  = df[rewards].str.split(';', 3).str\n",
    "avgs['HYBC'] = getAvgVariances(hybc_df)\n",
    "\n",
    "fil3_df = df[df.model == 'FIL3']\n",
    "fil3_df[p1], fil3_df[p2], fil3_df[p3], fil3_df[p4] = df[rewards].str.split(';', 3).str\n",
    "avgs['FIL3'] = getAvgVariances(fil3_df)\n",
    "\n",
    "fil4_df = df[df.model == 'FIL4']\n",
    "fil4_df[p1], fil4_df[p2], fil4_df[p3], fil4_df[p4], fil4_df[p5] = df[rewards].str.split(';', 4).str\n",
    "avgs['FIL4'] = getAvgVariances(fil4_df)\n",
    "\n",
    "fil5_df = df[df.model == 'FIL5']\n",
    "fil5_df[p1], fil5_df[p2], fil5_df[p3], fil5_df[p4], fil5_df[p5], fil5_df[p6] = df[rewards].str.split(';', 5).str\n",
    "avgs['FIL5'] = getAvgVariances(fil5_df)\n",
    "\n",
    "fil6_df = df[df.model == 'FIL6']\n",
    "fil6_df[p1], fil6_df[p2], fil6_df[p3], fil6_df[p4], fil6_df[p5], fil6_df[p6], fil6_df[p7] = df[rewards].str.split(';', 6).str\n",
    "avgs['FIL6'] = getAvgVariances(fil6_df)\n",
    "\n",
    "fil7_df = df[df.model == 'FIL7']\n",
    "fil7_df[p1], fil7_df[p2], fil7_df[p3], fil7_df[p4], fil7_df[p5], fil7_df[p6], fil7_df[p7], fil7_df[p8] = df[rewards].str.split(';', 7).str\n",
    "avgs['FIL7'] = getAvgVariances(fil7_df)\n",
    "\n",
    "fil8_df = df[df.model == 'FIL8']\n",
    "fil8_df[p1], fil8_df[p2], fil8_df[p3], fil8_df[p4], fil8_df[p5], fil8_df[p6], fil8_df[p7], fil8_df[p8], fil8_df[p9] = df[rewards].str.split(';', 8).str\n",
    "avgs['FIL8'] = getAvgVariances(fil8_df)\n",
    "\n",
    "fil9_df = df[df.model == 'FIL9']\n",
    "fil9_df[p1], fil9_df[p2], fil9_df[p3], fil9_df[p4], fil9_df[p5], fil9_df[p6], fil9_df[p7], fil9_df[p8], fil9_df[p9], fil9_df[p10] = df[rewards].str.split(';', 9).str\n",
    "avgs['FIL9'] = getAvgVariances(fil9_df)\n",
    "\n",
    "fil10_df = df[df.model == 'FIL10']\n",
    "fil10_df[p1], fil10_df[p2], fil10_df[p3], fil10_df[p4], fil10_df[p5], fil10_df[p6], fil10_df[p7], fil10_df[p8], fil10_df[p9], fil10_df[p10], fil10_df[p11] = df[rewards].str.split(';', 10).str\n",
    "avgs['FIL10'] = getAvgVariances(fil10_df)\n",
    "\n",
    "fil11_df = df[df.model == 'FIL11']\n",
    "fil11_df[p1], fil11_df[p2], fil11_df[p3], fil11_df[p4], fil11_df[p5], fil11_df[p6], fil11_df[p7], fil11_df[p8], fil11_df[p9], fil11_df[p10], fil11_df[p11], fil11_df[p12] = df[rewards].str.split(';', 11).str\n",
    "avgs['FIL11'] = getAvgVariances(fil11_df)\n",
    "\n",
    "fil12_df = df[df.model == 'FIL12']\n",
    "fil12_df[p1], fil12_df[p2], fil12_df[p3], fil12_df[p4], fil12_df[p5], fil12_df[p6], fil12_df[p7], fil12_df[p8], fil12_df[p9], fil12_df[p10], fil12_df[p11], fil12_df[p12], fil12_df[p13] = df[rewards].str.split(';', 12).str\n",
    "avgs['FIL12'] = getAvgVariances(fil12_df)\n",
    "\n",
    "avgs"
   ]
  },
  {
   "cell_type": "markdown",
   "metadata": {},
   "source": [
    "# Mean runtime with different tolerance"
   ]
  },
  {
   "cell_type": "code",
   "execution_count": 13,
   "metadata": {},
   "outputs": [],
   "source": [
    "sum_times_df = df.loc[:,[model,tolerance,time]].groupby([model,tolerance]).mean().sort_values(by=[model, tolerance])\n",
    "\n",
    "models = sum_times_df.index.levels[0].tolist()\n",
    "tols = sum_times_df.index.levels[1].tolist()\n",
    "\n",
    "sum_times_df = sum_times_df.reset_index()\n",
    "for mod in models:\n",
    "    tempDf = sum_times_df[sum_times_df.model == mod]\n",
    "    for t in tols:\n",
    "        tempDf_tol = tempDf[tempDf.tolerance == t]\n",
    "        if len(tempDf_tol) == 0:\n",
    "            sum_times_df.loc[-1] = [mod, t, 0]  # adding a row\n",
    "            sum_times_df.index = sum_times_df.index + 1  # shifting index\n",
    "            sum_times_df = sum_times_df.sort_values(by=[model,tolerance])  # sorting by index"
   ]
  },
  {
   "cell_type": "code",
   "execution_count": 20,
   "metadata": {},
   "outputs": [
    {
     "data": {
      "image/png": "[encoded data removed]",
      "text/plain": [
       "<Figure size 1440x576 with 1 Axes>"
      ]
     },
     "metadata": {},
     "output_type": "display_data"
    }
   ],
   "source": [
    "arrays=[]\n",
    "for x in tols:\n",
    "    arrays.append([])\n",
    "\n",
    "tasks = sum_times_df.loc[:,time].reset_index()\n",
    "tasks['index'] = np.arange(tasks.time.count())\n",
    "for x in range(tasks.time.count()):\n",
    "    nextTime = tasks.loc[tasks['index']==x].iloc[0].time\n",
    "    arrays[x%len(tols)].append(nextTime)\n",
    "\n",
    "fig = plt.figure(figsize=(20,8))\n",
    "ax = fig.add_subplot(111)\n",
    "\n",
    "ind = np.arange(12)  # the x locations for the groups\n",
    "xIdx = -0.25\n",
    "wi = 0.12\n",
    "i = 0\n",
    "for array in arrays:\n",
    "    ax.bar(height=array, x=ind+xIdx, width=wi, label=tols[i])\n",
    "    xIdx = xIdx + wi\n",
    "    i = i+1\n",
    "    \n",
    "ax.set_xticks(ind)\n",
    "ax.set_xticklabels(models)\n",
    "plt.legend()\n",
    "plt.ylabel(\"processing time (ns)\")\n",
    "plt.show()"
   ]
  },
  {
   "cell_type": "markdown",
   "metadata": {},
   "source": [
    "# Célfüggvény pontossága toleranciánként"
   ]
  },
  {
   "cell_type": "code",
   "execution_count": 87,
   "metadata": {},
   "outputs": [],
   "source": [
    "def scatterPlotModel(MODEL, badTolerance, goodTolerance):\n",
    "    filtered = df[df.model == MODEL].loc[:,[tolerance, point_id, result]]\n",
    "    filtered_bad = filtered[filtered.tolerance == badTolerance].set_index(point_id)\n",
    "    filtered_good = filtered[filtered.tolerance == goodTolerance].set_index(point_id)\n",
    "    dataSize = min(len(filtered_bad.index), len(filtered_good.index))\n",
    "    return (filtered_good.head(dataSize).result, filtered_bad.head(dataSize).result)\n",
    "\n",
    "def getColorAndMarker(idx):\n",
    "    c = \"C\" + str(idx % 10)\n",
    "    m = ''\n",
    "    if idx > 10:\n",
    "        m = 'x'\n",
    "    else:\n",
    "        m = 'o'\n",
    "    return (c, m)"
   ]
  },
  {
   "cell_type": "code",
   "execution_count": 101,
   "metadata": {},
   "outputs": [
    {
     "data": {
      "image/png": "[encoded data removed]",
      "text/plain": [
       "<Figure size 576x576 with 1 Axes>"
      ]
     },
     "metadata": {},
     "output_type": "display_data"
    }
   ],
   "source": [
    "fig = plt.figure(figsize=(8,8))\n",
    "colors = ['C0', 'C1', 'C2', 'C3', 'C4', 'C5', 'C6', 'C7', 'C8', 'C9']\n",
    "\n",
    "# TODO utolsó két diagrammra nem marad szín...\n",
    "for i in range(10):\n",
    "    (x, y) = scatterPlotModel(models[i], 1e-2, 1e-8)\n",
    "    plt.scatter(x=x, y=y, c=colors[i])\n",
    "    i=i+1\n",
    "    \n",
    "plt.show()"
   ]
  },
  {
   "cell_type": "code",
   "execution_count": null,
   "metadata": {},
   "outputs": [],
   "source": []
  }
 ],
 "metadata": {
  "kernelspec": {
   "display_name": "Python 3",
   "language": "python",
   "name": "python3"
  },
  "language_info": {
   "codemirror_mode": {
    "name": "ipython",
    "version": 3
   },
   "file_extension": ".py",
   "mimetype": "text/x-python",
   "name": "python",
   "nbconvert_exporter": "python",
   "pygments_lexer": "ipython3",
   "version": "3.6.5"
  }
 },
 "nbformat": 4,
 "nbformat_minor": 2
}
