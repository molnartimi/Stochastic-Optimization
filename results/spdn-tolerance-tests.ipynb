{
 "cells": [
  {
   "cell_type": "markdown",
   "metadata": {},
   "source": [
    "# Read csv"
   ]
  },
  {
   "cell_type": "code",
   "execution_count": 1,
   "metadata": {},
   "outputs": [],
   "source": [
    "import pandas as pd\n",
    "import numpy as np\n",
    "import sys\n",
    "import os.path\n",
    "import matplotlib.pyplot as plt\n",
    "\n",
    "model = 'model'\n",
    "tolerance = 'tolerance'\n",
    "point_id = 'point_id'\n",
    "time = 'time'\n",
    "values = 'values'\n",
    "\n",
    "headers = [model, tolerance, point_id, time, values]\n",
    "types = {\n",
    "    model : str,\n",
    "    tolerance : np.float64,\n",
    "    point_id: np.int64,\n",
    "    time : np.int64,\n",
    "    values: str,\n",
    "}\n",
    "\n",
    "df = pd.read_csv('simple_tolerance_tests.csv', header = 0, names = headers, low_memory = False, dtype = types)"
   ]
  },
  {
   "cell_type": "code",
   "execution_count": 2,
   "metadata": {},
   "outputs": [],
   "source": [
    "p1 = 'p1'\n",
    "p2 = 'p2'\n",
    "p3 = 'p3'\n",
    "p4 = 'p4'\n",
    "p5 = 'p5'\n",
    "p6 = 'p6'\n",
    "p7 = 'p7'\n",
    "p8 = 'p8'\n",
    "p9 = 'p9'\n",
    "avg = 'avg'"
   ]
  },
  {
   "cell_type": "markdown",
   "metadata": {},
   "source": [
    "# Átlagos szórás az eredmények között\n",
    "Adatfeldolgozás:\n",
    "1. SPDN által visszaadott reward eredmények a _values_ oszlopban, ;-vel elválasztva\n",
    "2. Ezeket külön oszlopokra bontjuk, a _pointid_ alapján eggyesítjük, oszlopok (vagyis reward eredmények) szórását vesszük\n",
    "3. Külön _avg_ oszlopban átlagoljuk soronként a szórásokat\n",
    "4. Az így kapott összes sorra átlagoljuk a szórás átlagokat :D"
   ]
  },
  {
   "cell_type": "code",
   "execution_count": 3,
   "metadata": {},
   "outputs": [],
   "source": [
    "def getAvgVariances(newDf):\n",
    "    # These must be done before getAvgVariances:\n",
    "    #    smpl_df = df[df.model == 'SMPL']\n",
    "    #    smpl_df[p1], smpl_df[p2] = df[values].str.split(';', 1).str\n",
    "    for col in newDf.columns:\n",
    "        newDf[col] = pd.to_numeric(newDf[col], errors = 'coerce')\n",
    "    newDf = newDf.drop(columns=[model, tolerance, time, values])\\\n",
    "                    .groupby(point_id).var()\\\n",
    "                    .dropna(thresh=1)\n",
    "    newDf[avg] = newDf[newDf.columns[0]]\n",
    "    for col in newDf.columns[1:(len(newDf.columns)-1)]:\n",
    "        newDf[avg] = newDf[avg] + newDf[col]\n",
    "    newDf[avg] = newDf[avg] / (len(newDf.columns) - 1)\n",
    "    return np.average(newDf.loc[:,avg].values)\n",
    "    "
   ]
  },
  {
   "cell_type": "code",
   "execution_count": 4,
   "metadata": {},
   "outputs": [
    {
     "name": "stderr",
     "output_type": "stream",
     "text": [
      "C:\\Users\\Timi\\Anaconda3\\lib\\site-packages\\ipykernel_launcher.py:4: SettingWithCopyWarning: \n",
      "A value is trying to be set on a copy of a slice from a DataFrame.\n",
      "Try using .loc[row_indexer,col_indexer] = value instead\n",
      "\n",
      "See the caveats in the documentation: http://pandas.pydata.org/pandas-docs/stable/indexing.html#indexing-view-versus-copy\n",
      "  after removing the cwd from sys.path.\n",
      "C:\\Users\\Timi\\Anaconda3\\lib\\site-packages\\ipykernel_launcher.py:6: SettingWithCopyWarning: \n",
      "A value is trying to be set on a copy of a slice from a DataFrame.\n",
      "Try using .loc[row_indexer,col_indexer] = value instead\n",
      "\n",
      "See the caveats in the documentation: http://pandas.pydata.org/pandas-docs/stable/indexing.html#indexing-view-versus-copy\n",
      "  \n",
      "C:\\Users\\Timi\\Anaconda3\\lib\\site-packages\\ipykernel_launcher.py:8: SettingWithCopyWarning: \n",
      "A value is trying to be set on a copy of a slice from a DataFrame.\n",
      "Try using .loc[row_indexer,col_indexer] = value instead\n",
      "\n",
      "See the caveats in the documentation: http://pandas.pydata.org/pandas-docs/stable/indexing.html#indexing-view-versus-copy\n",
      "  \n",
      "C:\\Users\\Timi\\Anaconda3\\lib\\site-packages\\ipykernel_launcher.py:12: SettingWithCopyWarning: \n",
      "A value is trying to be set on a copy of a slice from a DataFrame.\n",
      "Try using .loc[row_indexer,col_indexer] = value instead\n",
      "\n",
      "See the caveats in the documentation: http://pandas.pydata.org/pandas-docs/stable/indexing.html#indexing-view-versus-copy\n",
      "  if sys.path[0] == '':\n",
      "C:\\Users\\Timi\\Anaconda3\\lib\\site-packages\\ipykernel_launcher.py:16: SettingWithCopyWarning: \n",
      "A value is trying to be set on a copy of a slice from a DataFrame.\n",
      "Try using .loc[row_indexer,col_indexer] = value instead\n",
      "\n",
      "See the caveats in the documentation: http://pandas.pydata.org/pandas-docs/stable/indexing.html#indexing-view-versus-copy\n",
      "  app.launch_new_instance()\n",
      "C:\\Users\\Timi\\Anaconda3\\lib\\site-packages\\ipykernel_launcher.py:20: SettingWithCopyWarning: \n",
      "A value is trying to be set on a copy of a slice from a DataFrame.\n",
      "Try using .loc[row_indexer,col_indexer] = value instead\n",
      "\n",
      "See the caveats in the documentation: http://pandas.pydata.org/pandas-docs/stable/indexing.html#indexing-view-versus-copy\n",
      "C:\\Users\\Timi\\Anaconda3\\lib\\site-packages\\ipykernel_launcher.py:24: SettingWithCopyWarning: \n",
      "A value is trying to be set on a copy of a slice from a DataFrame.\n",
      "Try using .loc[row_indexer,col_indexer] = value instead\n",
      "\n",
      "See the caveats in the documentation: http://pandas.pydata.org/pandas-docs/stable/indexing.html#indexing-view-versus-copy\n",
      "C:\\Users\\Timi\\Anaconda3\\lib\\site-packages\\ipykernel_launcher.py:28: SettingWithCopyWarning: \n",
      "A value is trying to be set on a copy of a slice from a DataFrame.\n",
      "Try using .loc[row_indexer,col_indexer] = value instead\n",
      "\n",
      "See the caveats in the documentation: http://pandas.pydata.org/pandas-docs/stable/indexing.html#indexing-view-versus-copy\n"
     ]
    },
    {
     "data": {
      "text/plain": [
       "{'SMPL': 0.0,\n",
       " 'VCLS': 824.9564314320025,\n",
       " 'HYBC': 38.444645417998125,\n",
       " 'FIL3': 0.0013312947054801337,\n",
       " 'FIL5': 0.003193035294466044,\n",
       " 'FIL7': 0.002300327314036227,\n",
       " 'FIL9': 0.009702338289007474}"
      ]
     },
     "execution_count": 4,
     "metadata": {},
     "output_type": "execute_result"
    }
   ],
   "source": [
    "avgs = {}\n",
    "\n",
    "smpl_df = df[df.model == 'SMPL']\n",
    "smpl_df[p1], smpl_df[p2] = df[values].str.split(';', 1).str\n",
    "avgs['SMPL'] = getAvgVariances(smpl_df)\n",
    "\n",
    "vcls_df = df[df.model == 'VCLS']\n",
    "vcls_df[p1], vcls_df[p2], vcls_df[p3], vcls_df[p4],vcls_df[p5], vcls_df[p6],vcls_df[p7]  = df[values].str.split(';', 6).str\n",
    "avgs['VCLS'] = getAvgVariances(vcls_df)\n",
    "\n",
    "hybc_df = df[df.model == 'HYBC']\n",
    "hybc_df[p1], hybc_df[p2], hybc_df[p3], hybc_df[p4]  = df[values].str.split(';', 3).str\n",
    "avgs['HYBC'] = getAvgVariances(hybc_df)\n",
    "\n",
    "fil3_df = df[df.model == 'FIL3']\n",
    "fil3_df[p1], fil3_df[p2], fil3_df[p3] = df[values].str.split(';', 2).str\n",
    "avgs['FIL3'] = getAvgVariances(fil3_df)\n",
    "\n",
    "fil5_df = df[df.model == 'FIL5']\n",
    "fil5_df[p1], fil5_df[p2], fil5_df[p3], fil5_df[p4], fil5_df[p5]   = df[values].str.split(';', 4).str\n",
    "avgs['FIL5'] = getAvgVariances(fil5_df)\n",
    "\n",
    "fil7_df = df[df.model == 'FIL7']\n",
    "fil7_df[p1], fil7_df[p2], fil7_df[p3], fil7_df[p4], fil7_df[p5], fil7_df[p6], fil7_df[p7]   = df[values].str.split(';', 6).str\n",
    "avgs['FIL7'] = getAvgVariances(fil7_df)\n",
    "\n",
    "fil9_df = df[df.model == 'FIL9']\n",
    "fil9_df[p1], fil9_df[p2], fil9_df[p3], fil9_df[p4], fil9_df[p5], fil9_df[p6], fil9_df[p7], fil9_df[p8], fil9_df[p9] = df[values].str.split(';', 8).str\n",
    "avgs['FIL9'] = getAvgVariances(fil9_df)\n",
    "\n",
    "avgs"
   ]
  },
  {
   "cell_type": "markdown",
   "metadata": {},
   "source": [
    "# Mean runtime with different tolerance"
   ]
  },
  {
   "cell_type": "code",
   "execution_count": 5,
   "metadata": {},
   "outputs": [],
   "source": [
    "sum_times_df = df.loc[:,[model,tolerance,time]].groupby([model,tolerance]).mean().sort_values(by=[model, tolerance])\n",
    "\n",
    "models = sum_times_df.index.levels[0].tolist()\n",
    "tols = sum_times_df.index.levels[1].tolist()\n",
    "\n",
    "sum_times_df = sum_times_df.reset_index()\n",
    "for mod in models:\n",
    "    tempDf = sum_times_df[sum_times_df.model == mod]\n",
    "    for t in tols:\n",
    "        tempDf_tol = tempDf[tempDf.tolerance == t]\n",
    "        if len(tempDf_tol) == 0:\n",
    "            sum_times_df.loc[-1] = [mod, t, 0]  # adding a row\n",
    "            sum_times_df.index = sum_times_df.index + 1  # shifting index\n",
    "            sum_times_df = sum_times_df.sort_values(by=[model,tolerance])  # sorting by index"
   ]
  },
  {
   "cell_type": "code",
   "execution_count": 6,
   "metadata": {},
   "outputs": [
    {
     "data": {
      "image/png": "[encoded data removed]",
      "text/plain": [
       "<Figure size 1440x576 with 1 Axes>"
      ]
     },
     "metadata": {},
     "output_type": "display_data"
    }
   ],
   "source": [
    "arrays=[]\n",
    "for x in tols:\n",
    "    arrays.append([])\n",
    "\n",
    "tasks = sum_times_df.loc[:,time].reset_index()\n",
    "tasks['index'] = np.arange(tasks.time.count())\n",
    "for x in range(tasks.time.count()):\n",
    "    nextTime = tasks.loc[tasks['index']==x].iloc[0].time\n",
    "    arrays[x%len(tols)].append(nextTime)\n",
    "\n",
    "fig = plt.figure(figsize=(20,8))\n",
    "ax = fig.add_subplot(111)\n",
    "\n",
    "ind = np.arange(7)  # the x locations for the groups\n",
    "xIdx = -0.25\n",
    "wi = 0.12\n",
    "i = 0\n",
    "for array in arrays:\n",
    "    ax.bar(height=array, x=ind+xIdx, width=wi, label=tols[i])\n",
    "    xIdx = xIdx + wi\n",
    "    i = i+1\n",
    "    \n",
    "ax.set_xticks(ind)\n",
    "ax.set_xticklabels(models)\n",
    "plt.legend()\n",
    "plt.show()"
   ]
  },
  {
   "cell_type": "code",
   "execution_count": null,
   "metadata": {},
   "outputs": [],
   "source": []
  }
 ],
 "metadata": {
  "kernelspec": {
   "display_name": "Python 3",
   "language": "python",
   "name": "python3"
  },
  "language_info": {
   "codemirror_mode": {
    "name": "ipython",
    "version": 3
   },
   "file_extension": ".py",
   "mimetype": "text/x-python",
   "name": "python",
   "nbconvert_exporter": "python",
   "pygments_lexer": "ipython3",
   "version": "3.6.5"
  }
 },
 "nbformat": 4,
 "nbformat_minor": 2
}
