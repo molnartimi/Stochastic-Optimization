{
 "cells": [
  {
   "cell_type": "markdown",
   "metadata": {},
   "source": [
    "# Read csv"
   ]
  },
  {
   "cell_type": "code",
   "execution_count": 1,
   "metadata": {
    "scrolled": true
   },
   "outputs": [],
   "source": [
    "import pandas\n",
    "import numpy\n",
    "import sys\n",
    "import os.path\n",
    "import matplotlib.pyplot as plt\n",
    "\n",
    "model = 'model'\n",
    "tolerance = 'tolerance'\n",
    "point_id = 'point_id'\n",
    "time = 'time'\n",
    "value = 'value'\n",
    "\n",
    "headers = [model, tolerance, point_id, time, value]\n",
    "types = {\n",
    "    model : str,\n",
    "    tolerance : numpy.float64,\n",
    "    point_id: numpy.int64,\n",
    "    time : numpy.int64,\n",
    "    value: numpy.float64,\n",
    "}\n",
    "\n",
    "df = pandas.read_csv('tolerance_tests.csv', header = 0, names = headers, low_memory = False, dtype = types)\n",
    "# df"
   ]
  },
  {
   "cell_type": "markdown",
   "metadata": {},
   "source": [
    "# Mean runtime with different tolerance"
   ]
  },
  {
   "cell_type": "code",
   "execution_count": 2,
   "metadata": {},
   "outputs": [],
   "source": [
    "sum_times_df = df.loc[:,[model,tolerance,time]].groupby([model,tolerance]).mean().sort_values(by=[model, tolerance])\n",
    "\n",
    "models = sum_times_df.index.levels[0].tolist()\n",
    "tols = sum_times_df.index.levels[1].tolist()\n",
    "\n",
    "sum_times_df = sum_times_df.reset_index()\n",
    "for mod in models:\n",
    "    tempDf = sum_times_df[sum_times_df.model == mod]\n",
    "    for t in tols:\n",
    "        tempDf_tol = tempDf[tempDf.tolerance == t]\n",
    "        if len(tempDf_tol) == 0:\n",
    "            sum_times_df.loc[-1] = [mod, t, 0]  # adding a row\n",
    "            sum_times_df.index = sum_times_df.index + 1  # shifting index\n",
    "            sum_times_df = sum_times_df.sort_values(by=[model,tolerance])  # sorting by index\n",
    "\n",
    "# sum_times_df"
   ]
  },
  {
   "cell_type": "code",
   "execution_count": 3,
   "metadata": {},
   "outputs": [
    {
     "data": {
      "image/png": "[encoded data removed]",
      "text/plain": [
       "<Figure size 1440x576 with 1 Axes>"
      ]
     },
     "metadata": {},
     "output_type": "display_data"
    }
   ],
   "source": [
    "arrays=[]\n",
    "for x in tols:\n",
    "    arrays.append([])\n",
    "\n",
    "tasks = sum_times_df.loc[:,time].reset_index()\n",
    "tasks['index'] = numpy.arange(tasks.time.count())\n",
    "for x in range(tasks.time.count()):\n",
    "    nextTime = tasks.loc[tasks['index']==x].iloc[0].time\n",
    "    arrays[x%len(tols)].append(nextTime)\n",
    "\n",
    "fig = plt.figure(figsize=(20,8))\n",
    "ax = fig.add_subplot(111)\n",
    "\n",
    "ind = numpy.arange(6)  # the x locations for the groups\n",
    "xIdx = -0.25\n",
    "wi = 0.12\n",
    "i = 0\n",
    "for array in arrays:\n",
    "    ax.bar(height=array, x=ind+xIdx, width=wi, label=tols[i])\n",
    "    xIdx = xIdx + wi\n",
    "    i = i+1\n",
    "    \n",
    "ax.set_xticks(ind)\n",
    "ax.set_xticklabels(models)\n",
    "plt.legend()\n",
    "plt.show()"
   ]
  },
  {
   "cell_type": "markdown",
   "metadata": {},
   "source": [
    "# Result variance at different tolerances"
   ]
  },
  {
   "cell_type": "code",
   "execution_count": 10,
   "metadata": {},
   "outputs": [
    {
     "data": {
      "text/html": [
       "<div>\n",
       "<style scoped>\n",
       "    .dataframe tbody tr th:only-of-type {\n",
       "        vertical-align: middle;\n",
       "    }\n",
       "\n",
       "    .dataframe tbody tr th {\n",
       "        vertical-align: top;\n",
       "    }\n",
       "\n",
       "    .dataframe thead th {\n",
       "        text-align: right;\n",
       "    }\n",
       "</style>\n",
       "<table border=\"1\" class=\"dataframe\">\n",
       "  <thead>\n",
       "    <tr style=\"text-align: right;\">\n",
       "      <th></th>\n",
       "      <th>value</th>\n",
       "    </tr>\n",
       "    <tr>\n",
       "      <th>model</th>\n",
       "      <th></th>\n",
       "    </tr>\n",
       "  </thead>\n",
       "  <tbody>\n",
       "    <tr>\n",
       "      <th>FIL3</th>\n",
       "      <td>2.782330e+21</td>\n",
       "    </tr>\n",
       "    <tr>\n",
       "      <th>FIL5</th>\n",
       "      <td>1.463393e+03</td>\n",
       "    </tr>\n",
       "    <tr>\n",
       "      <th>FIL7</th>\n",
       "      <td>1.063926e+05</td>\n",
       "    </tr>\n",
       "    <tr>\n",
       "      <th>FIL9</th>\n",
       "      <td>9.658554e-07</td>\n",
       "    </tr>\n",
       "    <tr>\n",
       "      <th>SMPL</th>\n",
       "      <td>0.000000e+00</td>\n",
       "    </tr>\n",
       "    <tr>\n",
       "      <th>VCLS</th>\n",
       "      <td>6.688570e+129</td>\n",
       "    </tr>\n",
       "  </tbody>\n",
       "</table>\n",
       "</div>"
      ],
      "text/plain": [
       "               value\n",
       "model               \n",
       "FIL3    2.782330e+21\n",
       "FIL5    1.463393e+03\n",
       "FIL7    1.063926e+05\n",
       "FIL9    9.658554e-07\n",
       "SMPL    0.000000e+00\n",
       "VCLS   6.688570e+129"
      ]
     },
     "execution_count": 10,
     "metadata": {},
     "output_type": "execute_result"
    }
   ],
   "source": [
    "temp_df = df.loc[:,[model, point_id, value]]\\\n",
    "            .groupby([model, point_id]).var()\\\n",
    "            .groupby(model).mean()\n",
    "temp_df"
   ]
  },
  {
   "cell_type": "code",
   "execution_count": null,
   "metadata": {},
   "outputs": [],
   "source": []
  }
 ],
 "metadata": {
  "kernelspec": {
   "display_name": "Python 3",
   "language": "python",
   "name": "python3"
  },
  "language_info": {
   "codemirror_mode": {
    "name": "ipython",
    "version": 3
   },
   "file_extension": ".py",
   "mimetype": "text/x-python",
   "name": "python",
   "nbconvert_exporter": "python",
   "pygments_lexer": "ipython3",
   "version": "3.6.5"
  }
 },
 "nbformat": 4,
 "nbformat_minor": 2
}
